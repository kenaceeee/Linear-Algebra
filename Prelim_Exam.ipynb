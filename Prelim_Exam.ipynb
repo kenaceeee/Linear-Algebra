{
  "nbformat": 4,
  "nbformat_minor": 0,
  "metadata": {
    "colab": {
      "name": "Prelim Exam.ipynb",
      "provenance": [],
      "collapsed_sections": [],
      "authorship_tag": "ABX9TyOamRfS47RXj/jX38q5Eeg5",
      "include_colab_link": true
    },
    "kernelspec": {
      "name": "python3",
      "display_name": "Python 3"
    },
    "language_info": {
      "name": "python"
    }
  },
  "cells": [
    {
      "cell_type": "markdown",
      "metadata": {
        "id": "view-in-github",
        "colab_type": "text"
      },
      "source": [
        "<a href=\"https://colab.research.google.com/github/kenaceeee/Linear-Algebra-58019/blob/main/Prelim_Exam.ipynb\" target=\"_parent\"><img src=\"https://colab.research.google.com/assets/colab-badge.svg\" alt=\"Open In Colab\"/></a>"
      ]
    },
    {
      "cell_type": "markdown",
      "metadata": {
        "id": "YB3O_U6Qhyj7"
      },
      "source": [
        "#Prelim Exam"
      ]
    },
    {
      "cell_type": "markdown",
      "metadata": {
        "id": "OEaA8jhclhKa"
      },
      "source": [
        "###Question 1"
      ]
    },
    {
      "cell_type": "code",
      "metadata": {
        "colab": {
          "base_uri": "https://localhost:8080/"
        },
        "id": "0L1OeY8PhxXG",
        "outputId": "7b16dfa0-3cad-4004-8b7a-ce7c9f145311"
      },
      "source": [
        "#numpy\n",
        "import numpy as np\n",
        "C = np.full((4,4),1)\n",
        "Diagonal = np.diagonal((C))\n",
        "print(\"C =\",C)\n",
        "print(\"Diagonal = \",Diagonal)"
      ],
      "execution_count": null,
      "outputs": [
        {
          "output_type": "stream",
          "name": "stdout",
          "text": [
            "C = [[1 1 1 1]\n",
            " [1 1 1 1]\n",
            " [1 1 1 1]\n",
            " [1 1 1 1]]\n",
            "Diagonal =  [1 1 1 1]\n"
          ]
        }
      ]
    },
    {
      "cell_type": "markdown",
      "metadata": {
        "id": "nRiTDO-Xlh_j"
      },
      "source": [
        "###Question 2"
      ]
    },
    {
      "cell_type": "code",
      "metadata": {
        "colab": {
          "base_uri": "https://localhost:8080/"
        },
        "id": "Zb1guY79jTcq",
        "outputId": "4f58f215-d3f9-4f0c-967a-645d82f84317"
      },
      "source": [
        "import numpy as np\n",
        "C = np.full((4,4),1) #to display the 4x4 matrix with the value of 1\n",
        "print(C*2) #to print the 4x4 matrix doubled"
      ],
      "execution_count": 7,
      "outputs": [
        {
          "output_type": "stream",
          "name": "stdout",
          "text": [
            "[[2 2 2 2]\n",
            " [2 2 2 2]\n",
            " [2 2 2 2]\n",
            " [2 2 2 2]]\n"
          ]
        }
      ]
    },
    {
      "cell_type": "markdown",
      "metadata": {
        "id": "GBVQJsmzlizK"
      },
      "source": [
        "###Question 3"
      ]
    },
    {
      "cell_type": "code",
      "metadata": {
        "colab": {
          "base_uri": "https://localhost:8080/"
        },
        "id": "Zyozda7gjBqC",
        "outputId": "2b6ad659-782c-474e-e04c-ce2efb3a4728"
      },
      "source": [
        "import numpy as np\n",
        "A = np.array([2,7,4]) #matrix A\n",
        "B = np.array([3,9,8]) #matix B\n",
        "output = np.cross(A,B) #cross multiply the martix A and matrix B\n",
        "print(output) #to print the cross product"
      ],
      "execution_count": 6,
      "outputs": [
        {
          "output_type": "stream",
          "name": "stdout",
          "text": [
            "[20 -4 -3]\n"
          ]
        }
      ]
    },
    {
      "cell_type": "markdown",
      "metadata": {
        "id": "zTVathwuypJJ"
      },
      "source": [
        "###Example"
      ]
    },
    {
      "cell_type": "code",
      "metadata": {
        "colab": {
          "base_uri": "https://localhost:8080/"
        },
        "id": "ZjTBz37txe-z",
        "outputId": "8bfc91ab-7c6c-4cf5-9ed7-5ceda742c46f"
      },
      "source": [
        "C = np.eye(4)\n",
        "print(C)"
      ],
      "execution_count": null,
      "outputs": [
        {
          "output_type": "stream",
          "name": "stdout",
          "text": [
            "[[1. 0. 0. 0.]\n",
            " [0. 1. 0. 0.]\n",
            " [0. 0. 1. 0.]\n",
            " [0. 0. 0. 1.]]\n"
          ]
        }
      ]
    }
  ]
}