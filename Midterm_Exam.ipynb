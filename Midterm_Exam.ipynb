{
  "nbformat": 4,
  "nbformat_minor": 0,
  "metadata": {
    "colab": {
      "name": "Midterm Exam",
      "provenance": [],
      "collapsed_sections": [],
      "authorship_tag": "ABX9TyOxryqQTEPtg7/NSFQ6OpbM",
      "include_colab_link": true
    },
    "kernelspec": {
      "name": "python3",
      "display_name": "Python 3"
    },
    "language_info": {
      "name": "python"
    }
  },
  "cells": [
    {
      "cell_type": "markdown",
      "metadata": {
        "id": "view-in-github",
        "colab_type": "text"
      },
      "source": [
        "<a href=\"https://colab.research.google.com/github/kenaceeee/Linear-Algebra-58019/blob/main/Midterm_Exam.ipynb\" target=\"_parent\"><img src=\"https://colab.research.google.com/assets/colab-badge.svg\" alt=\"Open In Colab\"/></a>"
      ]
    },
    {
      "cell_type": "markdown",
      "metadata": {
        "id": "-l0gwtS93x4B"
      },
      "source": [
        "##Midterm Exam"
      ]
    },
    {
      "cell_type": "markdown",
      "metadata": {
        "id": "LD-7q7Iv6JJ_"
      },
      "source": [
        "###Question 1. Create a Python code that displays a square matrix whose length is 5 (10 points)"
      ]
    },
    {
      "cell_type": "code",
      "metadata": {
        "id": "fkyIGNpm6ebH",
        "colab": {
          "base_uri": "https://localhost:8080/"
        },
        "outputId": "b6145aad-55c8-4f1b-c74d-c19a2d74ae35"
      },
      "source": [
        "A = (5,5)  \n",
        "B = np.zeros(s)\n",
        "print(B)"
      ],
      "execution_count": 28,
      "outputs": [
        {
          "output_type": "stream",
          "name": "stdout",
          "text": [
            "[[0. 0. 0. 0. 0.]\n",
            " [0. 0. 0. 0. 0.]\n",
            " [0. 0. 0. 0. 0.]\n",
            " [0. 0. 0. 0. 0.]\n",
            " [0. 0. 0. 0. 0.]]\n"
          ]
        }
      ]
    },
    {
      "cell_type": "markdown",
      "metadata": {
        "id": "WXPRXX7k6LTI"
      },
      "source": [
        "###Question 2. Create a Python code that displays a square matrix whose elements below the principal diagonal are zero (10 points)\n",
        "\n"
      ]
    },
    {
      "cell_type": "code",
      "metadata": {
        "id": "3ag4nQWl6d7f",
        "colab": {
          "base_uri": "https://localhost:8080/"
        },
        "outputId": "85b0e888-fa17-4ddb-e721-d3d8949ccea7"
      },
      "source": [
        "A = np.array([[1,2,3],[4,5,6],[7,8,9]])\n",
        "Zero = np.triu(A)\n",
        "print(Zero)"
      ],
      "execution_count": 21,
      "outputs": [
        {
          "output_type": "stream",
          "name": "stdout",
          "text": [
            "[[1 2 3]\n",
            " [0 5 6]\n",
            " [0 0 9]]\n"
          ]
        }
      ]
    },
    {
      "cell_type": "markdown",
      "metadata": {
        "id": "btU4YMhV6PfP"
      },
      "source": [
        "###Question 3. Create a Python code that displays a square matrix which is symmetrical (10 points)\n",
        "\n"
      ]
    },
    {
      "cell_type": "code",
      "metadata": {
        "id": "n_HWMufY6dSf",
        "colab": {
          "base_uri": "https://localhost:8080/"
        },
        "outputId": "d2ade63e-9388-43d5-c449-2eb21e192baf"
      },
      "source": [
        "A = np.array([[1,2,3,4,5],[1,2,3,4,5],[1,2,3,4,5],[1,2,3,4,5],[1,2,3,4,5]])\n",
        "print(A)\n"
      ],
      "execution_count": 31,
      "outputs": [
        {
          "output_type": "stream",
          "name": "stdout",
          "text": [
            "[[1 2 3 4 5]\n",
            " [1 2 3 4 5]\n",
            " [1 2 3 4 5]\n",
            " [1 2 3 4 5]\n",
            " [1 2 3 4 5]]\n"
          ]
        }
      ]
    },
    {
      "cell_type": "markdown",
      "metadata": {
        "id": "scunjQtc6QjP"
      },
      "source": [
        "###Question 4. What is the inverse of matrix C? Show your solution by python coding. (20 points)\n",
        "\n"
      ]
    },
    {
      "cell_type": "code",
      "metadata": {
        "colab": {
          "base_uri": "https://localhost:8080/"
        },
        "id": "odTY30-g3roN",
        "outputId": "c5515adc-4ae6-4ae5-ecee-514fad6689e6"
      },
      "source": [
        "C = np.array([[1,2,3],[2,3,3],[3,4,-2]]) #creation of matrix C\n",
        "print(C)\n",
        "inv_C = np.linalg.inv(C)\n",
        "print(inv_C)"
      ],
      "execution_count": 23,
      "outputs": [
        {
          "output_type": "stream",
          "name": "stdout",
          "text": [
            "[[ 1  2  3]\n",
            " [ 2  3  3]\n",
            " [ 3  4 -2]]\n",
            "[[-3.6  3.2 -0.6]\n",
            " [ 2.6 -2.2  0.6]\n",
            " [-0.2  0.4 -0.2]]\n"
          ]
        }
      ]
    },
    {
      "cell_type": "markdown",
      "metadata": {
        "id": "WhU3lQHU6Ucn"
      },
      "source": [
        "###Question 5. What is the determinant of the given matrix in Question 4? Show your solution by python coding. (20 points)\n",
        "\n"
      ]
    },
    {
      "cell_type": "code",
      "metadata": {
        "colab": {
          "base_uri": "https://localhost:8080/"
        },
        "id": "HtKPq-ED6ckf",
        "outputId": "049c5550-1703-4115-8420-2c2489820bf2"
      },
      "source": [
        "C = np.array ([[1,2,3],[2,3,3],[3,4,-2]])\n",
        "det_C = np.linalg.det(C)\n",
        "print(int(det_C))"
      ],
      "execution_count": null,
      "outputs": [
        {
          "output_type": "stream",
          "name": "stdout",
          "text": [
            "5\n"
          ]
        }
      ]
    },
    {
      "cell_type": "markdown",
      "metadata": {
        "id": "lduUHwIK6We_"
      },
      "source": [
        "###Question 6. Find the roots of the linear equations by showing its python codes (30 points)\n",
        "\n",
        "5X1 + 4X2 + X3 = 3.4\n",
        "\n",
        "10X1 + 9X2 + 4X3 = 8.8\n",
        "\n",
        "10X1 + 13X2 + 15X3 = 19.2"
      ]
    },
    {
      "cell_type": "code",
      "metadata": {
        "colab": {
          "base_uri": "https://localhost:8080/"
        },
        "id": "1rK0iVil6abf",
        "outputId": "5f42b45f-6ba1-43b3-bc78-d619a1bb7409"
      },
      "source": [
        "A = np.array([[5,4,1],[10,9,4],[10,13,15]])\n",
        "B = np.array([[[3.4],[8.8],[19.2]]])\n",
        "print(A)\n",
        "print(B)\n",
        "roots = np.linalg.inv(A) @ B\n",
        "print(roots)"
      ],
      "execution_count": null,
      "outputs": [
        {
          "output_type": "stream",
          "name": "stdout",
          "text": [
            "[[ 5  4  1]\n",
            " [10  9  4]\n",
            " [10 13 15]]\n",
            "[[[ 3.4]\n",
            "  [ 8.8]\n",
            "  [19.2]]]\n",
            "[[[0.2]\n",
            "  [0.4]\n",
            "  [0.8]]]\n"
          ]
        }
      ]
    }
  ]
}