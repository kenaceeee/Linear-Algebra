{
  "nbformat": 4,
  "nbformat_minor": 0,
  "metadata": {
    "colab": {
      "name": "Matrix Algebra.ipynb",
      "provenance": [],
      "collapsed_sections": [],
      "authorship_tag": "ABX9TyP04qSHwFVNMsTuMo5W3Lej",
      "include_colab_link": true
    },
    "kernelspec": {
      "name": "python3",
      "display_name": "Python 3"
    },
    "language_info": {
      "name": "python"
    }
  },
  "cells": [
    {
      "cell_type": "markdown",
      "metadata": {
        "id": "view-in-github",
        "colab_type": "text"
      },
      "source": [
        "<a href=\"https://colab.research.google.com/github/kenaceeee/Linear-Algebra-58019/blob/main/Matrix_Algebra.ipynb\" target=\"_parent\"><img src=\"https://colab.research.google.com/assets/colab-badge.svg\" alt=\"Open In Colab\"/></a>"
      ]
    },
    {
      "cell_type": "markdown",
      "metadata": {
        "id": "UETg_VeMzdUc"
      },
      "source": [
        "##Python program to inverse"
      ]
    },
    {
      "cell_type": "code",
      "metadata": {
        "colab": {
          "base_uri": "https://localhost:8080/"
        },
        "id": "QN48ev0ixX0m",
        "outputId": "cd2e41f2-7e2e-4788-91b2-37be3dde4175"
      },
      "source": [
        "import numpy as np\n",
        "A = np.array([[1,2,3],[4,5,6],[7,8,9]])\n",
        "print(A)"
      ],
      "execution_count": 9,
      "outputs": [
        {
          "output_type": "stream",
          "name": "stdout",
          "text": [
            "[[1 2 3]\n",
            " [4 5 6]\n",
            " [7 8 9]]\n"
          ]
        }
      ]
    },
    {
      "cell_type": "code",
      "metadata": {
        "colab": {
          "base_uri": "https://localhost:8080/"
        },
        "id": "lcKlBi6k3Mhj",
        "outputId": "9523551b-53d6-4539-9ee1-27e3c8ab260d"
      },
      "source": [
        "A = np.array([[1,2,],[4,7]])\n",
        "B = (np.linalg.inv(A))\n",
        "print(B)"
      ],
      "execution_count": 11,
      "outputs": [
        {
          "output_type": "stream",
          "name": "stdout",
          "text": [
            "[[-7.  2.]\n",
            " [ 4. -1.]]\n"
          ]
        }
      ]
    },
    {
      "cell_type": "code",
      "metadata": {
        "colab": {
          "base_uri": "https://localhost:8080/"
        },
        "id": "QbUOLIGj4YiT",
        "outputId": "6a4f0fd6-0dfd-4dbc-ac93-f6f2ce8a14ec"
      },
      "source": [
        "C = np.dot(A,(B))\n",
        "print(C)"
      ],
      "execution_count": 12,
      "outputs": [
        {
          "output_type": "stream",
          "name": "stdout",
          "text": [
            "[[1. 0.]\n",
            " [0. 1.]]\n"
          ]
        }
      ]
    },
    {
      "cell_type": "code",
      "metadata": {
        "colab": {
          "base_uri": "https://localhost:8080/"
        },
        "id": "gWxcjpdf4fCZ",
        "outputId": "4a1b04ec-65e6-40ba-c391-2acbf7f8afc2"
      },
      "source": [
        "A = np.array([[6,1,1],[4,-2,5],[2,8,7]])\n",
        "print(A)\n"
      ],
      "execution_count": 13,
      "outputs": [
        {
          "output_type": "stream",
          "name": "stdout",
          "text": [
            "[[ 6  1  1]\n",
            " [ 4 -2  5]\n",
            " [ 2  8  7]]\n"
          ]
        }
      ]
    },
    {
      "cell_type": "code",
      "metadata": {
        "colab": {
          "base_uri": "https://localhost:8080/"
        },
        "id": "9p9GtGmV6o-B",
        "outputId": "15ca7a25-8eba-4c70-de41-abf24fbfc882"
      },
      "source": [
        "A = np.array([[6,1,1],[4,-2,5],[2,8,7]])\n",
        "print(A)\n",
        "B = np.transpose(A)\n",
        "print(B)"
      ],
      "execution_count": 14,
      "outputs": [
        {
          "output_type": "stream",
          "name": "stdout",
          "text": [
            "[[ 6  1  1]\n",
            " [ 4 -2  5]\n",
            " [ 2  8  7]]\n",
            "[[ 6  4  2]\n",
            " [ 1 -2  8]\n",
            " [ 1  5  7]]\n"
          ]
        }
      ]
    },
    {
      "cell_type": "code",
      "metadata": {
        "colab": {
          "base_uri": "https://localhost:8080/"
        },
        "id": "fT9mdPFX6xiJ",
        "outputId": "93b7bde7-30c5-4e83-feb4-ae5661e31e44"
      },
      "source": [
        "A = np.array([[6,1,1],[4,-2,5],[2,8,7]])\n",
        "B = (np.linalg.inv(A))\n",
        "print(B)"
      ],
      "execution_count": 20,
      "outputs": [
        {
          "output_type": "stream",
          "name": "stdout",
          "text": [
            "[[ 0.17647059 -0.00326797 -0.02287582]\n",
            " [ 0.05882353 -0.13071895  0.08496732]\n",
            " [-0.11764706  0.1503268   0.05228758]]\n"
          ]
        }
      ]
    },
    {
      "cell_type": "code",
      "metadata": {
        "colab": {
          "base_uri": "https://localhost:8080/"
        },
        "id": "kLw17NIU7y-x",
        "outputId": "aa35b273-1c30-4129-96a2-6e0f329c8938"
      },
      "source": [
        "C = np.dot(A,(B))\n",
        "print(C)"
      ],
      "execution_count": 16,
      "outputs": [
        {
          "output_type": "stream",
          "name": "stdout",
          "text": [
            "[[ 1.00000000e+00  0.00000000e+00  2.77555756e-17]\n",
            " [-1.38777878e-17  1.00000000e+00  1.38777878e-17]\n",
            " [-4.16333634e-17  1.38777878e-16  1.00000000e+00]]\n"
          ]
        }
      ]
    },
    {
      "cell_type": "markdown",
      "metadata": {
        "id": "u-RM6CHE_PYo"
      },
      "source": [
        "##Time to code!"
      ]
    },
    {
      "cell_type": "code",
      "metadata": {
        "colab": {
          "base_uri": "https://localhost:8080/"
        },
        "id": "1AFkylgH-jx4",
        "outputId": "560695c9-1138-4ed4-a8bd-74c85ddc465e"
      },
      "source": [
        "#4x4 matrix\n",
        "A = np.array([[6,1,1,3],[4,-2,5,1],[2,8,7,6],[3,1,9,7]])\n",
        "print(A)"
      ],
      "execution_count": 23,
      "outputs": [
        {
          "output_type": "stream",
          "name": "stdout",
          "text": [
            "[[ 6  1  1  3]\n",
            " [ 4 -2  5  1]\n",
            " [ 2  8  7  6]\n",
            " [ 3  1  9  7]]\n"
          ]
        }
      ]
    },
    {
      "cell_type": "code",
      "metadata": {
        "colab": {
          "base_uri": "https://localhost:8080/"
        },
        "id": "Z6JJlX2n_dJI",
        "outputId": "43a48c24-f36e-4c91-cf4d-939bd8816730"
      },
      "source": [
        "#Python Program to inverse \n",
        "A = np.array([[6,1,1,3],[4,-2,5,1],[2,8,7,6],[3,1,9,7]])\n",
        "B = (np.linalg.inv(A))\n",
        "print(B)"
      ],
      "execution_count": 22,
      "outputs": [
        {
          "output_type": "stream",
          "name": "stdout",
          "text": [
            "[[ 0.13368984  0.10695187  0.02139037 -0.09090909]\n",
            " [-0.00229183  0.02673797  0.14820474 -0.12987013]\n",
            " [-0.12987013  0.18181818  0.06493506 -0.02597403]\n",
            " [ 0.11000764 -0.28342246 -0.11382735  0.23376623]]\n"
          ]
        }
      ]
    },
    {
      "cell_type": "code",
      "metadata": {
        "colab": {
          "base_uri": "https://localhost:8080/"
        },
        "id": "mPhDp24N_ieo",
        "outputId": "71b5ceab-3015-4179-be20-a35fa694c54a"
      },
      "source": [
        "#Python Program to transpose\n",
        "A = np.array([[6,1,1,3],[4,-2,5,1],[2,8,7,6],[3,1,9,7]])\n",
        "B = np.transpose(A)\n",
        "print(B)"
      ],
      "execution_count": 21,
      "outputs": [
        {
          "output_type": "stream",
          "name": "stdout",
          "text": [
            "[[ 6  4  2  3]\n",
            " [ 1 -2  8  1]\n",
            " [ 1  5  7  9]\n",
            " [ 3  1  6  7]]\n"
          ]
        }
      ]
    }
  ]
}