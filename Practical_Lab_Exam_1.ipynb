{
  "nbformat": 4,
  "nbformat_minor": 0,
  "metadata": {
    "colab": {
      "name": "Practical Lab Exam 1",
      "provenance": [],
      "collapsed_sections": [],
      "authorship_tag": "ABX9TyM8yePUCUQQ4HDZlJYcn4Ix",
      "include_colab_link": true
    },
    "kernelspec": {
      "name": "python3",
      "display_name": "Python 3"
    },
    "language_info": {
      "name": "python"
    }
  },
  "cells": [
    {
      "cell_type": "markdown",
      "metadata": {
        "id": "view-in-github",
        "colab_type": "text"
      },
      "source": [
        "<a href=\"https://colab.research.google.com/github/kenaceeee/Linear-Algebra-58019/blob/main/Practical_Lab_Exam_1.ipynb\" target=\"_parent\"><img src=\"https://colab.research.google.com/assets/colab-badge.svg\" alt=\"Open In Colab\"/></a>"
      ]
    },
    {
      "cell_type": "markdown",
      "metadata": {
        "id": "MgTXNPVIzemf"
      },
      "source": [
        "#Practical Lab Exam 1"
      ]
    },
    {
      "cell_type": "code",
      "metadata": {
        "colab": {
          "base_uri": "https://localhost:8080/"
        },
        "id": "ITxqYX0Cn_qW",
        "outputId": "996056c0-d84c-4edb-8ecf-6eff568371ba"
      },
      "source": [
        "#numpy\n",
        "import numpy as np\n",
        "A = np.array([[1,2,3],[4,5,6]])\n",
        "B = np.array([[1,2],[3,4],[5,6]])\n",
        "C = np.array([[1,2,3],[4,5,6],[7,8,9]])\n",
        "D = np.array([[1,2],[3,4]])\n",
        "X = np.dot(A,B)\n",
        "print(\"Problem 1\")\n",
        "print(\"\\na.\",X)\n",
        "print(\"\\nb.\",D+D)\n",
        "print(\"\\nc.\",2*C)"
      ],
      "execution_count": 47,
      "outputs": [
        {
          "output_type": "stream",
          "name": "stdout",
          "text": [
            "Problem 1\n",
            "\n",
            "a. [[22 28]\n",
            " [49 64]]\n",
            "\n",
            "b. [[2 4]\n",
            " [6 8]]\n",
            "\n",
            "c. [[ 2  4  6]\n",
            " [ 8 10 12]\n",
            " [14 16 18]]\n"
          ]
        }
      ]
    },
    {
      "cell_type": "code",
      "metadata": {
        "colab": {
          "base_uri": "https://localhost:8080/"
        },
        "id": "JR5fYaUVtnM_",
        "outputId": "2ff8a77c-7d15-42d6-d69a-57c59c2343f4"
      },
      "source": [
        "import numpy as np\n",
        "X = np.array([[5],[3],[-1]])\n",
        "print(\"Problem 2\")\n",
        "print(\"\\nθ =\",X)\n",
        "print(\"\\nType:\",type(X))\n",
        "print(\"\\nDimension:\",X.ndim)\n",
        "print(\"\\nShape:\",X.shape)\n"
      ],
      "execution_count": 53,
      "outputs": [
        {
          "output_type": "stream",
          "name": "stdout",
          "text": [
            "Problem 2\n",
            "\n",
            "θ = [[ 5]\n",
            " [ 3]\n",
            " [-1]]\n",
            "\n",
            "Type: <class 'numpy.ndarray'>\n",
            "\n",
            "Dimension: 2\n",
            "\n",
            "Shape: (3, 1)\n"
          ]
        }
      ]
    }
  ]
}