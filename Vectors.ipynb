{
  "nbformat": 4,
  "nbformat_minor": 0,
  "metadata": {
    "colab": {
      "name": "Vectors",
      "provenance": [],
      "authorship_tag": "ABX9TyO1o2b+BZiaDxG4zTy4GgEs",
      "include_colab_link": true
    },
    "kernelspec": {
      "name": "python3",
      "display_name": "Python 3"
    },
    "language_info": {
      "name": "python"
    }
  },
  "cells": [
    {
      "cell_type": "markdown",
      "metadata": {
        "id": "view-in-github",
        "colab_type": "text"
      },
      "source": [
        "<a href=\"https://colab.research.google.com/github/kenaceeee/Linear-Algebra/blob/main/Vectors.ipynb\" target=\"_parent\"><img src=\"https://colab.research.google.com/assets/colab-badge.svg\" alt=\"Open In Colab\"/></a>"
      ]
    },
    {
      "cell_type": "markdown",
      "metadata": {
        "id": "WLJna_JR0mTj"
      },
      "source": [
        "#Matrix Algebra\n"
      ]
    },
    {
      "cell_type": "code",
      "metadata": {
        "colab": {
          "base_uri": "https://localhost:8080/"
        },
        "id": "xnZQnKti0xXb",
        "outputId": "38c40869-121b-431d-fb99-5619a0368f5c"
      },
      "source": [
        "#numpy \n",
        "import numpy as np\n",
        "a = np.array([1,2,3]) #1x3 array\n",
        "print(a)"
      ],
      "execution_count": 2,
      "outputs": [
        {
          "output_type": "stream",
          "name": "stdout",
          "text": [
            "[1 2 3]\n"
          ]
        }
      ]
    },
    {
      "cell_type": "code",
      "metadata": {
        "colab": {
          "base_uri": "https://localhost:8080/"
        },
        "id": "yTtNVZBv1sHq",
        "outputId": "8cc1390c-6a4b-4b1a-acdf-25477ac999e9"
      },
      "source": [
        "import numpy as np\n",
        "b = np.array([[1,2,3],[4,5,6]])\n",
        "print(b)"
      ],
      "execution_count": 5,
      "outputs": [
        {
          "output_type": "stream",
          "name": "stdout",
          "text": [
            "[[1 2 3]\n",
            " [4 5 6]]\n"
          ]
        }
      ]
    },
    {
      "cell_type": "code",
      "metadata": {
        "colab": {
          "base_uri": "https://localhost:8080/"
        },
        "id": "7f2xRPk12Rpy",
        "outputId": "3fc56dcd-e8aa-45bc-904f-e5a84cde45ed"
      },
      "source": [
        "import numpy as np\n",
        "c = np.array([[1,2,3],[4,5,6],[7,8,9]])\n",
        "print(c)"
      ],
      "execution_count": 6,
      "outputs": [
        {
          "output_type": "stream",
          "name": "stdout",
          "text": [
            "[[1 2 3]\n",
            " [4 5 6]\n",
            " [7 8 9]]\n"
          ]
        }
      ]
    },
    {
      "cell_type": "code",
      "metadata": {
        "colab": {
          "base_uri": "https://localhost:8080/"
        },
        "id": "b1gTCQ6s2tIC",
        "outputId": "f16007d4-adeb-4f37-abbf-1504f00ad7a2"
      },
      "source": [
        "import numpy as np\n",
        "d = np.full((3,3),7)\n",
        "print(d)"
      ],
      "execution_count": 7,
      "outputs": [
        {
          "output_type": "stream",
          "name": "stdout",
          "text": [
            "[[7 7 7]\n",
            " [7 7 7]\n",
            " [7 7 7]]\n"
          ]
        }
      ]
    },
    {
      "cell_type": "code",
      "metadata": {
        "colab": {
          "base_uri": "https://localhost:8080/"
        },
        "id": "OJ3u5cOS3C0B",
        "outputId": "6f381cd5-969d-430c-cce7-9cbc7036b5e8"
      },
      "source": [
        "import numpy as np\n",
        "e = np.array([[1,2,3],[4,5,6],[7,8,9]])\n",
        "f = np.diagonal([[1,2,3],[4,5,6,],[7,8,9]])\n",
        "print(e)\n",
        "print(f)"
      ],
      "execution_count": 12,
      "outputs": [
        {
          "output_type": "stream",
          "name": "stdout",
          "text": [
            "[[1 2 3]\n",
            " [4 5 6]\n",
            " [7 8 9]]\n",
            "[1 5 9]\n"
          ]
        }
      ]
    },
    {
      "cell_type": "code",
      "metadata": {
        "colab": {
          "base_uri": "https://localhost:8080/"
        },
        "id": "78jtnXow3kah",
        "outputId": "9b6da561-7dad-48e3-ebb2-c96831102a9e"
      },
      "source": [
        "import numpy as np\n",
        "g = np.eye(3)\n",
        "print(g)"
      ],
      "execution_count": 15,
      "outputs": [
        {
          "output_type": "stream",
          "name": "stdout",
          "text": [
            "[[1. 0. 0.]\n",
            " [0. 1. 0.]\n",
            " [0. 0. 1.]]\n"
          ]
        }
      ]
    },
    {
      "cell_type": "code",
      "metadata": {
        "colab": {
          "base_uri": "https://localhost:8080/"
        },
        "id": "PeVzIAbh3-2w",
        "outputId": "1fcd9ff5-f07c-4520-b7c5-ec68f500e5de"
      },
      "source": [
        "import numpy as np\n",
        "h = np.zeros((2,2))\n",
        "print(h)"
      ],
      "execution_count": 17,
      "outputs": [
        {
          "output_type": "stream",
          "name": "stdout",
          "text": [
            "[[0. 0.]\n",
            " [0. 0.]]\n"
          ]
        }
      ]
    },
    {
      "cell_type": "code",
      "metadata": {
        "colab": {
          "base_uri": "https://localhost:8080/"
        },
        "id": "7GcM0LMI4PAA",
        "outputId": "4b693be0-f904-4e74-d2f2-20fd28c8c327"
      },
      "source": [
        "import numpy as np\n",
        "i = np.empty((0,12))\n",
        "print(i)"
      ],
      "execution_count": 18,
      "outputs": [
        {
          "output_type": "stream",
          "name": "stdout",
          "text": [
            "[]\n"
          ]
        }
      ]
    },
    {
      "cell_type": "code",
      "metadata": {
        "colab": {
          "base_uri": "https://localhost:8080/"
        },
        "id": "NpfBbJz94fWv",
        "outputId": "1b6dab28-13b8-4f03-e52c-f6db8aaaedb6"
      },
      "source": [
        "import numpy as np\n",
        "x = np.full((3,3),7)\n",
        "print(d+d)"
      ],
      "execution_count": 19,
      "outputs": [
        {
          "output_type": "stream",
          "name": "stdout",
          "text": [
            "[[14 14 14]\n",
            " [14 14 14]\n",
            " [14 14 14]]\n"
          ]
        }
      ]
    },
    {
      "cell_type": "code",
      "metadata": {
        "colab": {
          "base_uri": "https://localhost:8080/"
        },
        "id": "9FMLFwTn45_3",
        "outputId": "ec72a8a5-eb06-4a79-835e-ef962298d97f"
      },
      "source": [
        "import numpy as np\n",
        "y = np.full((3,3),7)\n",
        "print(y-y)"
      ],
      "execution_count": 20,
      "outputs": [
        {
          "output_type": "stream",
          "name": "stdout",
          "text": [
            "[[0 0 0]\n",
            " [0 0 0]\n",
            " [0 0 0]]\n"
          ]
        }
      ]
    }
  ]
}